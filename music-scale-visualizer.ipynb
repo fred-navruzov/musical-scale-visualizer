{
 "cells": [
  {
   "cell_type": "code",
   "execution_count": 1,
   "metadata": {
    "collapsed": true
   },
   "outputs": [],
   "source": [
    "from PIL import Image, ImageDraw"
   ]
  },
  {
   "cell_type": "code",
   "execution_count": 2,
   "metadata": {
    "collapsed": true
   },
   "outputs": [],
   "source": [
    "# notes (textual)\n",
    "notes = ['C', 'C#', 'D', 'D#', 'E', 'F', 'F#', 'G', 'G#', 'A', 'A#', 'B'] # octave note names\n",
    "notes_next_octave = [note + \"_up1\" for note in notes] # and 1 octave up, total of 24 semitones\n",
    "\n",
    "# note to octave position mapping\n",
    "note_mapping = {k:v for (k,v) in zip(notes+notes_next_octave, range(1,25))}\n",
    "\n",
    "# octave position to note mapping\n",
    "inv_mapping = {v:k for (k,v) in note_mapping.items()}\n",
    "\n",
    "# boolean masks for note presence in popular scales\n",
    "scale_masks = {\n",
    "    \n",
    "    'chromatic': [True] * 13, # oh, that's easy one to code :)\n",
    "    \n",
    "    'major-natural': [True, False, True, False, True, \n",
    "                      True, False, True, False, True, False, True, True],\n",
    "    \n",
    "    'major-pentatonic': [True, False, True, False, True, \n",
    "                         False, False, True, False, True, False, False, True],\n",
    "    \n",
    "    'major-rocknroll': [True, False, True, True, True, \n",
    "                        False, False, True, True, True, False, False, True],\n",
    "    \n",
    "    'minor': [True, False, True, True, False, \n",
    "              True, False, True, True, False, True, False, True],\n",
    "    \n",
    "    'minor-melodic': [True, False, True, True, False,\n",
    "                      True, False, True, False, True, False, True, True],\n",
    "    \n",
    "    'minor-harmonic': [True, False, True, True, False, \n",
    "                       True, False, True, True, False, False, True, True],\n",
    "    \n",
    "    'minor-pentatonic': [True, False, False, True, False, \n",
    "                         True, False, True, False, False, True, False, True],\n",
    "    \n",
    "    'minor-blues': [True, False, False, True, False, \n",
    "                    True, True, True, False, False, True, False, True]\n",
    "}"
   ]
  },
  {
   "cell_type": "code",
   "execution_count": 3,
   "metadata": {},
   "outputs": [],
   "source": [
    "# supportive function\n",
    "def get_scale(root_note=1, scale='major', view='textual'):\n",
    "    \"\"\"\n",
    "    Function to get notes in specified scale. Supports both textual and numerical note output.\n",
    "    \n",
    "    params:\n",
    "        root_note: int, [1-12] inclusive, or string [international note name]\n",
    "        scale: str\n",
    "            scale to build for, supports 'major', 'minor', 'minor-harmonic', etc.\n",
    "        view: str, default = 'textual'\n",
    "            whether to return position-based or textual-based scale, \n",
    "            'textual' for textual, position-based otherwise\n",
    "    returns:\n",
    "        result: list \n",
    "            note positions / list of note names, depending on 'view' param \n",
    "    \"\"\"\n",
    "    if type(root_note) == str:\n",
    "        try:\n",
    "            root_note = note_mapping[root_note.upper()]\n",
    "        except KeyError:\n",
    "            print('Wrong textual root note specified, check input!')\n",
    "            return []\n",
    "    \n",
    "    assert 1 <= root_note <= 12 and type(root_note) == int, 'root note between 1 and 12'\n",
    "    \n",
    "    # indexes, from choosen root note through 12 semitones to the same note 1 octave higher\n",
    "    base = list(range(root_note, root_note + 13))\n",
    "    # get boolean mask for selected scale\n",
    "    try:\n",
    "        mask = scale_masks[scale]\n",
    "    except KeyError:\n",
    "        print('Oops, unsupported or misspelled scale!')\n",
    "        return []\n",
    "    # return note names / note indexes, based on 'view' param\n",
    "    if view == 'textual':\n",
    "        return [inv_mapping[note] for (note,use) in zip(base,mask) if use]\n",
    "    else:\n",
    "        return [note for (note,use) in zip(base,mask) if use]"
   ]
  },
  {
   "cell_type": "code",
   "execution_count": 4,
   "metadata": {},
   "outputs": [
    {
     "data": {
      "text/plain": [
       "['F#', 'G#', 'A', 'B', 'C#_up1', 'D_up1', 'E_up1', 'F#_up1']"
      ]
     },
     "execution_count": 4,
     "metadata": {},
     "output_type": "execute_result"
    }
   ],
   "source": [
    "# usage example\n",
    "get_scale(root_note='F#', scale='minor', view='textual')"
   ]
  },
  {
   "cell_type": "code",
   "execution_count": 5,
   "metadata": {
    "collapsed": true
   },
   "outputs": [],
   "source": [
    "# visualize specified scale\n",
    "def visualize_scale(root_note='ми', scale='minor'):\n",
    "    \"\"\"\n",
    "    Function to visualize notes of specified scale on keyboard.\n",
    "    \n",
    "    params:\n",
    "        root_note: int, [1-12] inclusive, or string [note name in russian]\n",
    "        scale: str\n",
    "            scale to build for, supports 'major', 'minor', 'minor-harmonic'\n",
    "    returns:\n",
    "        picture: entity of PIL.Image class \n",
    "            grayscale picture with note positions, drawn over keyboard background \n",
    "    \"\"\"\n",
    "    # get note indexes for selected scale\n",
    "    sc = get_scale(root_note=root_note, scale=scale, view='digits')\n",
    "    # open background image with piano keyboard\n",
    "    im = Image.open(\"piano-2-octaves.jpg\")\n",
    "\n",
    "    eX, eY = 25, 25 # bounding box size (for circles)\n",
    "    \n",
    "    # shifts of circle positions on the background\n",
    "    hshift_white, hshift_black = 52.5, 20 # horizontal\n",
    "    vshift_white, vshift_black = 180, 65 # vertical\n",
    "    # 2-octaved white keys indexes (starts from 1)\n",
    "    white_keys = [1, 3, 5, 6, 8, 10, 12, 13, 15, 17, 18, 20, 22, 24]\n",
    "    # same for black keys\n",
    "    black_keys = [i for i in range(1, 24) if i not in white_keys]\n",
    "    \n",
    "    # define places (bounding boxes) to draw circles in\n",
    "    # places for 14 white keys (7+7)\n",
    "    bboxes_white = [\n",
    "        (28 + hshift_white*i - eX/2, vshift_white - eY/2, \n",
    "         28 + hshift_white*i + eX/2, vshift_white + eY/2) for i in range(0, 14)]\n",
    "    # create dict with mapping - note position <-> circle boundaries\n",
    "    bboxes = {k:v for (k,v) in zip(white_keys, bboxes_white)}\n",
    "    # places for 10 black keys (5+5)\n",
    "    bboxes_black = [\n",
    "        (55 + hshift_white*i - eX/2, vshift_black - eY/2, \n",
    "         55 + hshift_white*i + eX/2, vshift_black + eY/2) \n",
    "        for i in [0,1,3,4,5, 7,8,10,11,12]]\n",
    "    # update mapping dict with black keys\n",
    "    bboxes.update({k:v for (k,v) in zip(black_keys, bboxes_black)})\n",
    "    \n",
    "    # create draw object\n",
    "    draw = ImageDraw.Draw(im)\n",
    "    # choose circles to draw (based on selected scale)\n",
    "    if sc:\n",
    "        scale_bboxes = [bboxes[k] for k in sc]\n",
    "        # print circle  for each note in selected scale\n",
    "        for bbox in scale_bboxes:\n",
    "            draw.ellipse(bbox, fill=170, outline=100)\n",
    "    return im"
   ]
  },
  {
   "cell_type": "code",
   "execution_count": 6,
   "metadata": {},
   "outputs": [
    {
     "data": {
      "image/png": "[encoded data removed]",
      "text/plain": [
       "<PIL.JpegImagePlugin.JpegImageFile image mode=L size=740x233 at 0x7F7BF00A4550>"
      ]
     },
     "execution_count": 6,
     "metadata": {},
     "output_type": "execute_result"
    }
   ],
   "source": [
    "# usage example\n",
    "visualize_scale(root_note='c', scale='minor-blues')"
   ]
  },
  {
   "cell_type": "code",
   "execution_count": 9,
   "metadata": {},
   "outputs": [
    {
     "data": {
      "image/png": "[encoded data removed]",
      "text/plain": [
       "<PIL.JpegImagePlugin.JpegImageFile image mode=L size=740x233 at 0x7F7BE20BE908>"
      ]
     },
     "execution_count": 9,
     "metadata": {},
     "output_type": "execute_result"
    }
   ],
   "source": [
    "# usage example\n",
    "visualize_scale(root_note='C', scale='minor-melodic')"
   ]
  },
  {
   "cell_type": "code",
   "execution_count": null,
   "metadata": {
    "collapsed": true
   },
   "outputs": [],
   "source": []
  }
 ],
 "metadata": {
  "kernelspec": {
   "display_name": "Python [default]",
   "language": "python",
   "name": "python3"
  },
  "language_info": {
   "codemirror_mode": {
    "name": "ipython",
    "version": 3
   },
   "file_extension": ".py",
   "mimetype": "text/x-python",
   "name": "python",
   "nbconvert_exporter": "python",
   "pygments_lexer": "ipython3",
   "version": "3.6.1"
  }
 },
 "nbformat": 4,
 "nbformat_minor": 2
}
